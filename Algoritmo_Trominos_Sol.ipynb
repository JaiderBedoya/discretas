{
 "cells": [
  {
   "cell_type": "code",
   "execution_count": 21,
   "id": "40a7effb",
   "metadata": {},
   "outputs": [],
   "source": [
    "import numpy as np\n",
    "import matplotlib.pyplot as plt\n",
    "import matplotlib.colors as mcolors"
   ]
  },
  {
   "cell_type": "code",
   "execution_count": 22,
   "id": "50526344",
   "metadata": {},
   "outputs": [],
   "source": [
    "# Contador global para numerar los trominós. \n",
    "# Explique:\n",
    "tromino_id = 1"
   ]
  },
  {
   "cell_type": "code",
   "execution_count": null,
   "id": "6127c57c",
   "metadata": {},
   "outputs": [
    {
     "ename": "SyntaxError",
     "evalue": "invalid syntax (3299560315.py, line 14)",
     "output_type": "error",
     "traceback": [
      "  \u001b[36mCell\u001b[39m\u001b[36m \u001b[39m\u001b[32mIn[23]\u001b[39m\u001b[32m, line 14\u001b[39m\n\u001b[31m    \u001b[39m\u001b[31mm =\u001b[39m\n        ^\n\u001b[31mSyntaxError\u001b[39m\u001b[31m:\u001b[39m invalid syntax\n"
     ]
    }
   ],
   "source": [
    "def cubrir_tablero(tablero, n, fila_vacia, col_vacia, x, y):\n",
    "    global tromino_id\n",
    "\n",
    "# este es el caso base en una cuadricula de 2x2 quedando un espacio vacio:\n",
    "    if n == 2:\n",
    "        for i in range(2):\n",
    "            for j in range(2):\n",
    "                if (x + i, y + j) != (fila_vacia, col_vacia):\n",
    "                    tablero[x + i][y + j] = tromino_id\n",
    "        tromino_id += 1\n",
    "        return\n",
    "\n",
    "# Con m redefines el tamaño del nuevo tablero a ser analizado en la recursión:\n",
    "    m = n/2 #se redefine como n/2 por que en la recursividad se divide el tablero en 4 (cada lado en 2), osea 2^(n-1) x 2^(n-1) \n",
    "\n",
    "    cx, cy = x + m, y + m # calcula el punto central del tablero actual\n",
    "    f_mid, c_mid = cx - 1, cy - 1 # coordenadas de la esquina inferior derecha del cuadrante superior izquierdo\n",
    "\n",
    "# Explique: busca en que cuadrante está el espacio vacio original\n",
    "    if fila_vacia < cx and col_vacia < cy: # significa que el espacio vacio esta en el cuadrante superior izquierdo\n",
    "        cuadrante = 'sup_izq'\n",
    "    elif fila_vacia < cx and col_vacia >= cy: # significa que el espacio vacio esta en el cuadrante superior derecho\n",
    "        cuadrante = 'sup_der'\n",
    "    elif fila_vacia >= cx and col_vacia < cy:  # significa que el espacio vacio esta en el cuadrante inferior izquierdo\n",
    "        cuadrante = 'inf_izq'\n",
    "    else:\n",
    "        cuadrante = 'inf_der' # significa que el espacio vacio esta en el cuadrante inferior derecho\n",
    "\n",
    "# Explique: crea el un trominó poniendo una pieza en 3 de los 4 cuadrantes menos en el que tiene el espacio vacio original\n",
    "    if cuadrante != 'sup_izq':\n",
    "        tablero[f_mid][c_mid] = tromino_id #\n",
    "    if cuadrante != 'sup_der':\n",
    "        tablero[f_mid][cy] = tromino_id\n",
    "    if cuadrante != 'inf_izq':\n",
    "        tablero[cx][c_mid] = tromino_id\n",
    "    if cuadrante != 'inf_der':\n",
    "        tablero[cx][cy] = tromino_id\n",
    "\n",
    "    current_id = tromino_id\n",
    "    tromino_id += 1\n",
    "\n",
    "# en esta sección de codigo esta el caso de recursividad donde se acude a la función cubrir_tablero 4 veces\n",
    "# Explique: \n",
    "    cubrir_tablero(tablero, m,\n",
    "                   fila_vacia if cuadrante == 'sup_izq' else f_mid,\n",
    "                   col_vacia if cuadrante == 'sup_izq' else c_mid,\n",
    "                   x, y)\n",
    "\n",
    "    cubrir_tablero(tablero, m,\n",
    "                   fila_vacia if cuadrante == 'sup_der' else f_mid,\n",
    "                   col_vacia if cuadrante == 'sup_der' else cy,\n",
    "                   x, y + m)\n",
    "\n",
    "    cubrir_tablero(tablero, m,\n",
    "                   fila_vacia if cuadrante == 'inf_izq' else cx,\n",
    "                   col_vacia if cuadrante == 'inf_izq' else c_mid,\n",
    "                   x + m, y)\n",
    "\n",
    "    cubrir_tablero(tablero, m,\n",
    "                   fila_vacia if cuadrante == 'inf_der' else cx,\n",
    "                   col_vacia if cuadrante == 'inf_der' else cy,\n",
    "                   x + m, y + m)\n"
   ]
  },
  {
   "cell_type": "code",
   "execution_count": null,
   "id": "145d0e05",
   "metadata": {},
   "outputs": [],
   "source": [
    "def mostrar_tablero(tablero):\n",
    "    cmap = plt.cm.get_cmap(\"gist_ncar\", np.max(tablero) + 1)\n",
    "    cmap.set_under('black')  # Para la casilla faltante\n",
    "\n",
    "    plt.figure(figsize=(10, 10))\n",
    "    plt.imshow(tablero, cmap=cmap, norm=mcolors.Normalize(vmin=0, vmax=np.max(tablero)))\n",
    "    \n",
    "    for i in range(tablero.shape[0]):\n",
    "        for j in range(tablero.shape[1]):\n",
    "            val = tablero[i][j]\n",
    "            text = \"*\" if val == -1 else str(val)\n",
    "            plt.text(j, i, text, ha='center', va='center', color='white', fontsize=10)\n",
    "    \n",
    "    plt.title(\"Tablero cubierto con trominós (la casilla faltante está marcada con *)\")\n",
    "    plt.axis('off')\n",
    "    plt.tight_layout()\n",
    "    plt.show()"
   ]
  },
  {
   "cell_type": "code",
   "execution_count": 48,
   "id": "f1158258",
   "metadata": {},
   "outputs": [
    {
     "name": "stderr",
     "output_type": "stream",
     "text": [
      "C:\\Users\\USUARIO\\AppData\\Local\\Temp\\ipykernel_14812\\2291613202.py:2: MatplotlibDeprecationWarning: The get_cmap function was deprecated in Matplotlib 3.7 and will be removed in 3.11. Use ``matplotlib.colormaps[name]`` or ``matplotlib.colormaps.get_cmap()`` or ``pyplot.get_cmap()`` instead.\n",
      "  cmap = plt.cm.get_cmap(\"gist_ncar\", np.max(tablero) + 1)\n"
     ]
    },
    {
     "data": {
      "image/png": "[encoded data removed]",
      "text/plain": [
       "<Figure size 1000x1000 with 1 Axes>"
      ]
     },
     "metadata": {},
     "output_type": "display_data"
    }
   ],
   "source": [
    "# ---------- Parámetros iniciales del tablero ----------\n",
    "k = 2 # tamaño del tablero será 2^k x 2^k\n",
    "tam = 2 ** k\n",
    "tablero = np.zeros((  tam , tam ), dtype=int)\n",
    "\n",
    "# Coordenada de Casilla faltante (cuadro deficiente)\n",
    "fila_faltante = 3\n",
    "col_faltante = 3\n",
    "tablero[fila_faltante][col_faltante] = -1\n",
    "\n",
    "# Ejecutar algoritmo\n",
    "cubrir_tablero(tablero, tam, fila_faltante, col_faltante, 0, 0)\n",
    "\n",
    "# Visualizar\n",
    "mostrar_tablero(tablero)"
   ]
  }
 ],
 "metadata": {
  "kernelspec": {
   "display_name": "Python 3",
   "language": "python",
   "name": "python3"
  },
  "language_info": {
   "codemirror_mode": {
    "name": "ipython",
    "version": 3
   },
   "file_extension": ".py",
   "mimetype": "text/x-python",
   "name": "python",
   "nbconvert_exporter": "python",
   "pygments_lexer": "ipython3",
   "version": "3.13.6"
  }
 },
 "nbformat": 4,
 "nbformat_minor": 5
}
